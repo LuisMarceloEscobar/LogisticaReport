{
 "cells": [
  {
   "cell_type": "code",
   "execution_count": 1,
   "metadata": {},
   "outputs": [],
   "source": [
    "####################################################### KOA  ##################################################################\n",
    "import glob\n",
    "import os\n",
    "import pandas as pd\n",
    "import numpy as np\n",
    "import calendar\n",
    "from contextlib import contextmanager\n",
    "from datetime import datetime\n",
    "import math\n",
    "import warnings\n",
    "warnings.filterwarnings(\"ignore\")"
   ]
  },
  {
   "cell_type": "code",
   "execution_count": 4,
   "metadata": {},
   "outputs": [],
   "source": [
    "os.chdir(r'C:\\Users\\becho\\Documents\\MasterReport\\Reporting\\Bases Manuales\\11 FILL RATE\\KOA')\n",
    "FL = []\n",
    "csv_files = glob.glob('*.xlsx')"
   ]
  },
  {
   "cell_type": "code",
   "execution_count": 5,
   "metadata": {},
   "outputs": [],
   "source": [
    "for filename in csv_files:\n",
    "    data = pd.read_excel(filename,sheet_name='Sheet1')\n",
    "    data = data.drop([0,1],axis=0)\n",
    "    FL.append(data)"
   ]
  },
  {
   "cell_type": "code",
   "execution_count": 6,
   "metadata": {
    "scrolled": false
   },
   "outputs": [],
   "source": [
    "FL = pd.concat(FL,ignore_index=True)\n",
    "FL.rename(columns = {'Unnamed: 2': 'COD_CLI','Unnamed: 8':'SKU','Unnamed: 9':'PEDIDO','Unnamed: 3':'Fecha_t','Unnamed: 10':'DIF_PRECIO','Unnamed: 11':'OT_DIFERENCIA','Unnamed: 12':'QUIEBRE','Unnamed: 13':'CAPACIDAD','Unnamed: 14':'RECHAZO','Unnamed: 15':'SIN_LIQUIDAR'} ,inplace=True)\n",
    "FL=FL[[\"Fecha_t\",\"COD_CLI\",\"SKU\",\"PEDIDO\",\"DIF_PRECIO\",\"OT_DIFERENCIA\",\"QUIEBRE\",\"CAPACIDAD\",\"RECHAZO\",\"SIN_LIQUIDAR\"]]"
   ]
  },
  {
   "cell_type": "code",
   "execution_count": 7,
   "metadata": {},
   "outputs": [],
   "source": [
    "FL.PEDIDO = FL.PEDIDO.astype(float)\n",
    "FL.PEDIDO = FL.PEDIDO.round(1)\n",
    "FL.DIF_PRECIO = FL.DIF_PRECIO.astype(float)\n",
    "FL.DIF_PRECIO = FL.DIF_PRECIO.round(1)\n",
    "FL.OT_DIFERENCIA = FL.OT_DIFERENCIA.astype(float)\n",
    "FL.OT_DIFERENCIA = FL.OT_DIFERENCIA.round(1)\n",
    "FL.QUIEBRE = FL.QUIEBRE.astype(float)\n",
    "FL.QUIEBRE = FL.QUIEBRE.round(1)\n",
    "FL.CAPACIDAD = FL.CAPACIDAD.astype(float)\n",
    "FL.CAPACIDAD = FL.CAPACIDAD.round(1)\n",
    "FL.RECHAZO = FL.RECHAZO.astype(float)\n",
    "FL.RECHAZO = FL.RECHAZO.round(1)\n",
    "FL.SIN_LIQUIDAR = FL.SIN_LIQUIDAR.astype(float)\n",
    "FL.SIN_LIQUIDAR = FL.SIN_LIQUIDAR.round(1)"
   ]
  },
  {
   "cell_type": "code",
   "execution_count": 8,
   "metadata": {},
   "outputs": [],
   "source": [
    "FL_P=FL[[\"Fecha_t\",\"COD_CLI\",\"SKU\",\"PEDIDO\"]]\n",
    "FL_P.rename(columns = {'PEDIDO':'VALOR'},inplace=True)\n",
    "FL_P['Categoria']=\"Solicitado\"\n",
    "\n",
    "FL_DP=FL[[\"Fecha_t\",\"COD_CLI\",\"SKU\",\"DIF_PRECIO\"]]\n",
    "FL_DP.rename(columns = {'DIF_PRECIO':'VALOR'},inplace=True)\n",
    "FL_DP['Categoria']=\"Diferencia_de_precio\"\n",
    "\n",
    "FL_OT=FL[[\"Fecha_t\",\"COD_CLI\",\"SKU\",\"OT_DIFERENCIA\"]]\n",
    "FL_OT.rename(columns = {'OT_DIFERENCIA':'VALOR'},inplace=True)\n",
    "FL_OT['Categoria']=\"OT_DIFERENCIAS\"\n",
    "\n",
    "FL_Q=FL[[\"Fecha_t\",\"COD_CLI\",\"SKU\",\"QUIEBRE\"]]\n",
    "FL_Q.rename(columns = {'QUIEBRE':'VALOR'},inplace=True)\n",
    "FL_Q['Categoria']=\"Quiebre\"\n",
    "\n",
    "FL_C=FL[[\"Fecha_t\",\"COD_CLI\",\"SKU\",\"CAPACIDAD\"]]\n",
    "FL_C.rename(columns = {'CAPACIDAD':'VALOR'},inplace=True)\n",
    "FL_C['Categoria']=\"Capacidad\"\n",
    "\n",
    "FL_R=FL[[\"Fecha_t\",\"COD_CLI\",\"SKU\",\"RECHAZO\"]]\n",
    "FL_R.rename(columns = {'RECHAZO':'VALOR'},inplace=True)\n",
    "FL_R['Categoria']=\"Rechazo\"\n",
    "\n",
    "FL_SL=FL[[\"Fecha_t\",\"COD_CLI\",\"SKU\",\"SIN_LIQUIDAR\"]]\n",
    "FL_SL.rename(columns = {'SIN_LIQUIDAR':'VALOR'},inplace=True)\n",
    "FL_SL['Categoria']=\"Sin_liquidar\""
   ]
  },
  {
   "cell_type": "code",
   "execution_count": 9,
   "metadata": {},
   "outputs": [],
   "source": [
    "FL_KOA = FL_DP.append(FL_P)\n",
    "FL_KOA = FL_KOA.append(FL_OT)\n",
    "FL_KOA = FL_KOA.append(FL_Q)\n",
    "FL_KOA = FL_KOA.append(FL_C)\n",
    "FL_KOA = FL_KOA.append(FL_R)\n",
    "FL_KOA = FL_KOA.append(FL_SL)"
   ]
  },
  {
   "cell_type": "code",
   "execution_count": 10,
   "metadata": {},
   "outputs": [],
   "source": [
    "os.chdir(r'C:\\Users\\becho\\Documents\\MasterReport\\Maestras')\n",
    "Maestro_SKU = pd.read_excel('Materiales  Abi.xlsx', sheet_name='Hoja1')#, dtype ={'Cj/Pall simil':np.float64,'HL/cj':np.float64} ,decimal='.')\n",
    "Maestro_SKU.rename(columns = {'Material': 'SKU_KOA','Material ABI': 'Sku','HL/cj':'HL_cj'} ,inplace=True)\n",
    "\n",
    "FL_KOA.rename(columns = {'SKU': 'Sku'} ,inplace=True)\n",
    "\n",
    "Maestra_SKU_KOA = Maestro_SKU[[\"SKU_KOA\",\"Sku\"]]"
   ]
  },
  {
   "cell_type": "code",
   "execution_count": 11,
   "metadata": {},
   "outputs": [],
   "source": [
    "FL_KOA =FL_KOA.dropna(subset=['Fecha_t'])\n",
    "FL_KOA.Fecha_t = FL.Fecha_t.astype(str)\n",
    "\n",
    "Titulo =FL_KOA[[\"Fecha_t\"]]\n",
    "Titulo = Titulo[\"Fecha_t\"].str.split(\"-\", n=2, expand=True)\n",
    "\n",
    "aa=Titulo[2].str.split(\" \", n=1, expand=True) #dia dd\n",
    "Titulo[0] = Titulo[0].astype(str)             #anho yyyy\n",
    "Titulo[1] = Titulo[1].astype(str)             #mes  mm\n",
    "aa[0] = aa[0].astype(str)                     #dia str dd\n",
    "\n",
    "FL_KOA['Fecha_t'] = Titulo[0]+Titulo[1]+aa[0] #yyyymmdd\n",
    "\n",
    "FL_KOA =FL_KOA[[\"Fecha_t\",\"COD_CLI\", \"Sku\", \"Categoria\",\"VALOR\"]]"
   ]
  },
  {
   "cell_type": "code",
   "execution_count": 12,
   "metadata": {},
   "outputs": [],
   "source": [
    "################################################### KOE ####################################################################\n",
    "os.chdir(r'C:\\Users\\becho\\Documents\\MasterReport\\Reporting\\Bases Manuales\\11 FILL RATE\\KOE\\DATA')\n",
    "FL_KOE = []\n",
    "csv_files = glob.glob('*.csv')"
   ]
  },
  {
   "cell_type": "code",
   "execution_count": 13,
   "metadata": {},
   "outputs": [],
   "source": [
    "for filename in csv_files:\n",
    "    data = pd.read_csv(filename,encoding='UTF-16LE', sep='\\t')#,dtype={'Stock_Cajas':np.float64, 'Sku_ABInBev': np.float64} ,decimal='.')\n",
    "    FL_KOE.append(data)\n",
    "FL_KOE = pd.concat(FL_KOE,ignore_index=True)"
   ]
  },
  {
   "cell_type": "code",
   "execution_count": 14,
   "metadata": {},
   "outputs": [],
   "source": [
    "FL_KOE =FL_KOE[[\"Año_mes_dia_entrega\",\"Codigo_Cliente\", \"Sku_ABInBev\", \"Cjs_Solicitadas\", \"ATRIBUTO\",\"VALOR\"]]\n",
    "FL_KOE.VALOR = FL_KOE.VALOR.astype(float)\n",
    "FL_KOE.VALOR = FL_KOE.VALOR.round(3)\n",
    "FL_KOE.Cjs_Solicitadas = FL_KOE.Cjs_Solicitadas.astype(float)\n",
    "FL_KOE.Cjs_Solicitadas = FL_KOE.Cjs_Solicitadas.round(3)"
   ]
  },
  {
   "cell_type": "code",
   "execution_count": 15,
   "metadata": {},
   "outputs": [],
   "source": [
    "FL_SOL =FL_KOE[[\"Año_mes_dia_entrega\",\"Codigo_Cliente\", \"Sku_ABInBev\", \"Cjs_Solicitadas\", \"ATRIBUTO\"]]\n",
    "FL_SOL = FL_SOL[(FL_SOL[\"ATRIBUTO\"]==\"MOTIVO_DIF_COSTO\")]\n",
    "FL_SOL['ATRIBUTO']=\"Solicitado\"\n",
    "FL_SOL.rename(columns = {'Cjs_Solicitadas': 'VALOR','Año_mes_dia_entrega':'Fecha_t','Codigo_Cliente':'COD_CLI','Sku_ABInBev':'Sku',} ,inplace=True)"
   ]
  },
  {
   "cell_type": "code",
   "execution_count": 16,
   "metadata": {},
   "outputs": [],
   "source": [
    "FL_KOE.rename(columns = {'Año_mes_dia_entrega':'Fecha_t','Codigo_Cliente':'COD_CLI','Sku_ABInBev':'Sku'} ,inplace=True)\n",
    "FL_KOE[\"ATRIBUTO\"]=FL_KOE.ATRIBUTO.str.replace(r\"MOTIVO_DIF_COSTO\",\"Diferencia_de_precio\")\n",
    "FL_KOE[\"ATRIBUTO\"]=FL_KOE.ATRIBUTO.str.replace(r\"MOTIVO_ELIMINADAS\",\"Eliminado\")\n",
    "FL_KOE[\"ATRIBUTO\"]=FL_KOE.ATRIBUTO.str.replace(r\"MOTIVO_ERROR_MAESTRA\",\"ERROR_MAESTRA\")\n",
    "FL_KOE[\"ATRIBUTO\"]=FL_KOE.ATRIBUTO.str.replace(r\"MOTIVO_LIMITE_DE_CREDITO\",\"Diferencia_de_precio\")\n",
    "FL_KOE[\"ATRIBUTO\"]=FL_KOE.ATRIBUTO.str.replace(r\"MOTIVO_QUIEBRE\",\"Quiebre\")\n",
    "FL_KOE[\"ATRIBUTO\"]=FL_KOE.ATRIBUTO.str.replace(r\"MOTIVO_RETORNOS\",\"Rechazo\")\n",
    "FL_KOE[\"ATRIBUTO\"]=FL_KOE.ATRIBUTO.str.replace(r\"MOTIVO_NO_IDENTIFICADAS\",\"Otros\")\n",
    "FL_KOE = FL_KOE.append(FL_SOL)"
   ]
  },
  {
   "cell_type": "code",
   "execution_count": 17,
   "metadata": {
    "scrolled": true
   },
   "outputs": [],
   "source": [
    "FL_KOE.rename(columns = {'ATRIBUTO':'Categoria'} ,inplace=True)\n",
    "FL_KOE =FL_KOE[[\"Fecha_t\",\"COD_CLI\", \"Sku\", \"Categoria\",\"VALOR\"]]\n",
    "FL_KOE = FL_KOE[FL_KOE[\"VALOR\"]>0]\n",
    "\n",
    "os.chdir(r'C:\\Users\\becho\\Documents\\MasterReport\\Maestras')\n",
    "Maestro_SKU = pd.read_excel('Materiales  Abi.xlsx', sheet_name='Hoja1')#, dtype ={'Cj/Pall simil':np.float64,'HL/cj':np.float64} ,decimal='.')\n",
    "Maestro_SKU.rename(columns = {'Material': 'Sku_KOA','Material ABI': 'Sku','HL/cj':'HL_cj'} ,inplace=True)\n",
    "\n",
    "FL_KOE.Fecha_t = FL_KOE.Fecha_t.astype(str)\n",
    "FL_KOE.COD_CLI = FL_KOE.COD_CLI.astype(str)\n",
    "\n",
    "pd.to_numeric(FL_KOE.Sku, errors='coerce',downcast='float')\n",
    "FL_KOE.Sku = FL_KOE.Sku.astype(str)\n",
    "Titulo =FL_KOE[[\"Sku\"]]\n",
    "Titulo = Titulo[\"Sku\"].str.split(\".\", n=1, expand=True)\n",
    "FL_KOE.Sku = Titulo[0]\n",
    "\n",
    "FL_KOE =FL_KOE[[\"Fecha_t\",\"COD_CLI\", \"Sku\", \"Categoria\", \"VALOR\"]]\n",
    "FL_KOA =FL_KOA[[\"Fecha_t\",\"COD_CLI\", \"Sku\", \"Categoria\", \"VALOR\"]]\n",
    "FL_KOE['KO']=\"KOE\"\n",
    "FL_KOA['KO']=\"KOA\"\n",
    "\n",
    "FL_KOE.VALOR = FL_KOE.VALOR.astype(float)\n",
    "FL_KOE.VALOR = FL_KOE.VALOR.round(4)\n",
    "\n",
    "FL_KOE =FL_KOE.dropna(subset=['Fecha_t','COD_CLI', 'Sku', 'Categoria', 'VALOR'])\n",
    "FL =FL_KOA.append(FL_KOE)\n",
    "\n",
    "################################\n",
    "FL = FL[FL[\"VALOR\"]>0]\n",
    "FL.VALOR = FL.VALOR.astype(float)\n",
    "FL.VALOR = FL.VALOR.round(4)\n",
    "FL =FL.dropna(subset=['Fecha_t','COD_CLI', 'Sku', 'Categoria', 'VALOR'])\n",
    "#\n",
    "FL =FL.dropna(subset=['Sku'])\n",
    "FL = FL[FL[\"Sku\"]!=\"nan\"]\n",
    "\n",
    "#############\n",
    "FL.to_csv(r\"C:\\Users\\becho\\Documents\\MasterReport\\Reporting\\ETL\\07 Fill Rate\\FILL_RATE.txt\")"
   ]
  },
  {
   "cell_type": "code",
   "execution_count": 20,
   "metadata": {},
   "outputs": [],
   "source": [
    "FLxx = FL[ FL[\"Fecha_t\"]==\"20210517\" ]\n",
    "FLxx = FLxx[FLxx[\"Categoria\"]==\"OT_DIFERENCIAS\"]\n",
    "FLxx.VALOR = FLxx.VALOR*-1\n",
    "FL =FL.append(FLxx)"
   ]
  },
  {
   "cell_type": "code",
   "execution_count": 21,
   "metadata": {},
   "outputs": [],
   "source": [
    "FLsolxx = FLxx\n",
    "FLsolxx.Categoria =\"Solicitado\"\n",
    "FL =FL.append(FLsolxx)"
   ]
  },
  {
   "cell_type": "code",
   "execution_count": 22,
   "metadata": {},
   "outputs": [],
   "source": [
    "FLxx28 = FL[ FL[\"Fecha_t\"]==\"20210628\" ]\n",
    "FLxx28 = FLxx28[(FLxx28[\"Categoria\"]==\"OT_DIFERENCIAS\")]\n",
    "FLxx28.VALOR = FLxx28.VALOR*-1\n",
    "FL =FL.append(FLxx28)"
   ]
  },
  {
   "cell_type": "code",
   "execution_count": 23,
   "metadata": {},
   "outputs": [],
   "source": [
    "FLsolxx28 = FLxx28\n",
    "FLsolxx28.Categoria =\"Solicitado\"\n",
    "FL =FL.append(FLsolxx28)"
   ]
  },
  {
   "cell_type": "code",
   "execution_count": 24,
   "metadata": {},
   "outputs": [],
   "source": [
    "FLxx29 = FL[ FL[\"Fecha_t\"]==\"20210629\" ]\n",
    "FLxx29 = FLxx29[(FLxx29[\"Categoria\"]==\"OT_DIFERENCIAS\")]\n",
    "FLxx29.VALOR = FLxx29.VALOR*-1\n",
    "FL =FL.append(FLxx29)"
   ]
  },
  {
   "cell_type": "code",
   "execution_count": 25,
   "metadata": {},
   "outputs": [],
   "source": [
    "FLsolxx29 = FLxx29\n",
    "FLsolxx29.Categoria =\"Solicitado\"\n",
    "FL =FL.append(FLsolxx29)"
   ]
  },
  {
   "cell_type": "code",
   "execution_count": 26,
   "metadata": {},
   "outputs": [],
   "source": [
    "FLxx30 = FL[ FL[\"Fecha_t\"]==\"20210630\" ]\n",
    "FLxx30 = FLxx30[(FLxx30[\"Categoria\"]==\"OT_DIFERENCIAS\")]\n",
    "FLxx30.VALOR = FLxx30.VALOR*-1\n",
    "FL =FL.append(FLxx30)"
   ]
  },
  {
   "cell_type": "code",
   "execution_count": 27,
   "metadata": {},
   "outputs": [],
   "source": [
    "FLsolxx30 = FLxx30\n",
    "FLsolxx30.Categoria =\"Solicitado\"\n",
    "FL =FL.append(FLsolxx30)"
   ]
  },
  {
   "cell_type": "code",
   "execution_count": 28,
   "metadata": {},
   "outputs": [],
   "source": [
    "FLxx06 = FL[ FL[\"Fecha_t\"]==\"20210906\" ]\n",
    "FLxx06 = FLxx06[(FLxx06[\"Categoria\"]==\"OT_DIFERENCIAS\")]\n",
    "FLxx06.VALOR = FLxx06.VALOR*-1\n",
    "FL = FL.append(FLxx06)"
   ]
  },
  {
   "cell_type": "code",
   "execution_count": 29,
   "metadata": {},
   "outputs": [],
   "source": [
    "FLsolxx06 = FLxx06\n",
    "FLsolxx06.Categoria =\"Solicitado\"\n",
    "FL = FL.append(FLsolxx06)"
   ]
  },
  {
   "cell_type": "code",
   "execution_count": 30,
   "metadata": {},
   "outputs": [],
   "source": [
    "########################################   SI      #####################################\n",
    "os.chdir(r'C:\\Users\\becho\\Documents\\MasterReport\\Reporting\\Bases Manuales\\001 Sharepoint Jorge')\n",
    "Sh_j = []\n",
    "csv_files = glob.glob('*.txt')\n",
    "\n",
    "for filename in csv_files:\n",
    "    data = pd.read_csv(filename,encoding='ANSI', sep='\\t')#,dtype={'Stock_Cajas':np.float64, 'Sku_ABInBev': np.float64} ,decimal='.')\n",
    "    Sh_j.append(data)\n",
    "Sh_j = pd.concat(Sh_j,ignore_index=True)"
   ]
  },
  {
   "cell_type": "code",
   "execution_count": 31,
   "metadata": {},
   "outputs": [],
   "source": [
    "Sh_j = Sh_j[Sh_j[\"cga_tip_cga\"]==\"LOGISTICA VFILLRATE_TRADICSUPERM_DIARIO\"]\n",
    "Sh_j = Sh_j.dropna(subset=['log_anno_mes_dia_ent'])\n",
    "Sh_j = Sh_j[['log_anno_mes_dia_ent', 'log_cod_cliente','log_sku_producto','log_mot_no_ent','log_cjs_sol','log_can_cjs_rech']]"
   ]
  },
  {
   "cell_type": "code",
   "execution_count": 32,
   "metadata": {},
   "outputs": [],
   "source": [
    "########################################   SI      #####################################\n",
    "os.chdir(r'C:\\Users\\becho\\Documents\\MasterReport\\Reporting\\Bases Manuales\\001 Sharepoint Jorge')\n",
    "Sh_j = []\n",
    "csv_files = glob.glob('*.txt')\n",
    "\n",
    "for filename in csv_files:\n",
    "    data = pd.read_csv(filename,encoding='ANSI', sep='\\t')#,dtype={'Stock_Cajas':np.float64, 'Sku_ABInBev': np.float64} ,decimal='.')\n",
    "    Sh_j.append(data)\n",
    "Sh_j = pd.concat(Sh_j,ignore_index=True)"
   ]
  },
  {
   "cell_type": "code",
   "execution_count": 33,
   "metadata": {},
   "outputs": [],
   "source": [
    "Sh_j = Sh_j[Sh_j[\"cga_tip_cga\"]==\"LOGISTICA VFILLRATE_TRADICSUPERM_DIARIO\"]\n",
    "Sh_j = Sh_j.dropna(subset=['log_anno_mes_dia_ent'])\n",
    "Sh_j = Sh_j[['log_anno_mes_dia_ent', 'log_cod_cliente','log_sku_producto','log_mot_no_ent','log_cjs_sol','log_can_cjs_rech']]"
   ]
  },
  {
   "cell_type": "code",
   "execution_count": 34,
   "metadata": {},
   "outputs": [],
   "source": [
    "Sh_j.log_can_cjs_rech = Sh_j.log_can_cjs_rech.astype(float)\n",
    "Sh_j.log_can_cjs_rech = Sh_j.log_can_cjs_rech.round(3)\n",
    "Sh_j.log_cjs_sol = Sh_j.log_cjs_sol.astype(float)\n",
    "Sh_j.log_cjs_sol = Sh_j.log_cjs_sol.round(3)\n",
    "Sh_j.rename(columns = {'log_anno_mes_dia_ent':'Fecha_t','log_cod_cliente':'COD_CLI','log_sku_producto':'Sku_KOE','log_mot_no_ent':'ATRIBUTO','log_can_cjs_rech': 'VALOR'} ,inplace=True)"
   ]
  },
  {
   "cell_type": "code",
   "execution_count": 35,
   "metadata": {},
   "outputs": [],
   "source": [
    "#BASE rechazos\n",
    "FL_Sh = Sh_j\n",
    "FL_Sh[\"ATRIBUTO\"]=FL_Sh.ATRIBUTO.str.replace(r\"MOTIVO_DIF_COSTO\",\"Diferencia_de_precio\")\n",
    "FL_Sh[\"ATRIBUTO\"]=FL_Sh.ATRIBUTO.str.replace(r\"MOTIVO_ELIMINADAS\",\"Eliminado\")\n",
    "FL_Sh[\"ATRIBUTO\"]=FL_Sh.ATRIBUTO.str.replace(r\"MOTIVO_ERROR_MAESTRA\",\"ERROR_MAESTRA\")\n",
    "FL_Sh[\"ATRIBUTO\"]=FL_Sh.ATRIBUTO.str.replace(r\"MOTIVO_LIMITE_DE_CREDITO\",\"Diferencia_de_precio\")\n",
    "FL_Sh[\"ATRIBUTO\"]=FL_Sh.ATRIBUTO.str.replace(r\"MOTIVO_QUIEBRE\",\"Quiebre\")\n",
    "FL_Sh[\"ATRIBUTO\"]=FL_Sh.ATRIBUTO.str.replace(r\"MOTIVO_RETORNOS\",\"Rechazo\")\n",
    "FL_Sh[\"ATRIBUTO\"]=FL_Sh.ATRIBUTO.str.replace(r\"MOTIVO_NO_IDENTIFICADAS\",\"Otros\")"
   ]
  },
  {
   "cell_type": "code",
   "execution_count": 36,
   "metadata": {},
   "outputs": [],
   "source": [
    "FL_Sh.rename(columns = {'ATRIBUTO':'Categoria'} ,inplace=True)\n",
    "FL_Sh =FL_Sh[[\"Fecha_t\",\"COD_CLI\", \"Sku_KOE\", \"Categoria\",\"VALOR\"]]\n",
    "FL_Sh = FL_Sh[FL_Sh[\"VALOR\"]>0]\n",
    "Sh_SOL = Sh_j\n",
    "Sh_j = Sh_j[Sh_j[\"log_cjs_sol\"]>0]"
   ]
  },
  {
   "cell_type": "code",
   "execution_count": 37,
   "metadata": {},
   "outputs": [],
   "source": [
    "Sh_SOL.rename(columns = {'ATRIBUTO':'Categoria'} ,inplace=True)\n",
    "Sh_SOL = Sh_SOL[(Sh_SOL[\"Categoria\"]==\"Eliminado\")]\n",
    "Sh_SOL.Categoria=\"Solicitado\"\n",
    "Sh_SOL =Sh_SOL[[\"Fecha_t\",\"COD_CLI\", \"Sku_KOE\", \"Categoria\",\"log_cjs_sol\"]]\n",
    "Sh_SOL.rename(columns = {'log_cjs_sol': 'VALOR'} ,inplace=True)\n",
    "FL_Sh_c = FL_Sh.append(Sh_SOL)"
   ]
  },
  {
   "cell_type": "code",
   "execution_count": 38,
   "metadata": {},
   "outputs": [],
   "source": [
    "os.chdir(r'C:\\Users\\becho\\Documents\\MasterReport\\Reporting\\Maestras')\n",
    "Maestro_SKU = pd.read_excel('Materiales  Abi.xlsx', sheet_name='Hoja1')#, type ={'Cj/Pall simil':np.float64,'HL/cj':np.float64} ,decimal='.')\n",
    "Maestro_SKU.rename(columns = {'SKU KOE': 'Sku_KOE','Material ABI': 'Sku','HL/cj':'HL_cj'} ,inplace=True)\n",
    "Maestro_SKU.HL_cj = np.round(Maestro_SKU.HL_cj,5)\n",
    "Maestro_SKU.HL_cj =Maestro_SKU.HL_cj/10\n",
    "Maestro_SKU.HL_cj = np.round(Maestro_SKU.HL_cj,6)"
   ]
  },
  {
   "cell_type": "code",
   "execution_count": 39,
   "metadata": {},
   "outputs": [],
   "source": [
    "FL_Sh_c2 = FL_Sh_c\n",
    "Maestra_SKU_KOA = Maestro_SKU[[\"Sku_KOE\",\"Sku\"]]\n",
    "Maestra_SKU_KOA = Maestra_SKU_KOA.drop_duplicates(subset=[\"Sku_KOE\"])\n",
    "FL_Sh_c2 = pd.merge(FL_Sh_c2,Maestra_SKU_KOA,on=[\"Sku_KOE\"],how=\"outer\")"
   ]
  },
  {
   "cell_type": "code",
   "execution_count": 41,
   "metadata": {
    "scrolled": true
   },
   "outputs": [],
   "source": [
    "FL_Sh_c2.Sku = FL_Sh_c2.Sku.astype(str)\n",
    "FL_Sh_c2.Sku = FL_Sh_c2.Sku.str.split(\".\", n=1, expand=True)[0]"
   ]
  },
  {
   "cell_type": "code",
   "execution_count": 42,
   "metadata": {},
   "outputs": [],
   "source": [
    "FL_Sh_c2.COD_CLI = FL_Sh_c2.COD_CLI.astype(str)\n",
    "FL_Sh_c2.COD_CLI = FL_Sh_c2.COD_CLI.str.split(\".\", n=1, expand=True)[0]"
   ]
  },
  {
   "cell_type": "code",
   "execution_count": 44,
   "metadata": {},
   "outputs": [],
   "source": [
    "FL_Sh_c2 = FL_Sh_c2.dropna(subset=['Sku'])"
   ]
  },
  {
   "cell_type": "code",
   "execution_count": 45,
   "metadata": {},
   "outputs": [],
   "source": [
    "FL_Sh_c2 = FL_Sh_c2.dropna(subset=['Fecha_t','COD_CLI','Sku_KOE','Categoria','VALOR'])\n",
    "FL_Sh_c2.to_csv(r\"C:\\Users\\becho\\Documents\\MasterReport\\Reporting\\ETL\\07 Fill Rate\\FL_merg.txt\")\n",
    "FL_Sh_c2['KO']=\"KOE\"\n",
    "\n",
    "FL_Sh_c2['val'] = FL_Sh_c2.VALOR.astype(str)\n",
    "FL_Sh_c2['Id'] = FL_Sh_c2.Fecha_t.astype(str) +\"-\"+ FL_Sh_c2.COD_CLI +\"-\"+FL_Sh_c2.Sku.astype(str)+\"-\"+FL_Sh_c2.Categoria.astype(str)+\"-\"+FL_Sh_c2.val\n",
    "FL_Sh_c2 = FL_Sh_c2.drop_duplicates(subset=[\"Id\"])"
   ]
  },
  {
   "cell_type": "code",
   "execution_count": 46,
   "metadata": {},
   "outputs": [],
   "source": [
    "##### Error Cenco ###########\n",
    "FL_Sh_c3 = (FL_Sh_c2[\n",
    "                 ((FL_Sh_c2[\"Fecha_t\"]==20210628) | (FL_Sh_c2[\"Fecha_t\"]==20210629)| (FL_Sh_c2[\"Fecha_t\"]==20210630))\n",
    "                  & (FL_Sh_c2[\"Categoria\"]==\"Eliminado\")\n",
    "                    ])\n",
    "FL_Sh_c3.VALOR = FL_Sh_c3.VALOR*-1\n",
    "FL_Sh_c2 = FL_Sh_c2.append(FL_Sh_c3)"
   ]
  },
  {
   "cell_type": "code",
   "execution_count": 47,
   "metadata": {},
   "outputs": [],
   "source": [
    "################################### DATA FINAL ###########################################\n",
    "FL = FL.append(FL_Sh_c2)\n",
    "\n",
    "FL = FL[[\"Fecha_t\", \"COD_CLI\", \"Sku\", \"Categoria\", \"VALOR\", \"KO\"]]\n",
    "FL = FL.dropna(subset=['Fecha_t','Sku',\"Categoria\", \"VALOR\"])\n",
    "FL = FL.drop(FL[FL['Sku']=='nan'].index)\n",
    "FL = FL.drop(FL[FL['Categoria']=='nan'].index)\n",
    "FL = FL.drop(FL[FL['Fecha_t']=='nan'].index)\n",
    "\n",
    "FL.to_csv(r\"C:\\Users\\becho\\Documents\\MasterReport\\Reporting\\ETL\\07 Fill Rate\\FILL_RATE.txt\")"
   ]
  },
  {
   "cell_type": "code",
   "execution_count": null,
   "metadata": {},
   "outputs": [],
   "source": [
    "###################################### FIN #####################################"
   ]
  }
 ],
 "metadata": {
  "kernelspec": {
   "display_name": "Python 3 (ipykernel)",
   "language": "python",
   "name": "python3"
  },
  "language_info": {
   "codemirror_mode": {
    "name": "ipython",
    "version": 3
   },
   "file_extension": ".py",
   "mimetype": "text/x-python",
   "name": "python",
   "nbconvert_exporter": "python",
   "pygments_lexer": "ipython3",
   "version": "3.9.7"
  }
 },
 "nbformat": 4,
 "nbformat_minor": 4
}
