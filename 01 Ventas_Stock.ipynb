{
 "cells": [
  {
   "cell_type": "code",
   "execution_count": 1,
   "metadata": {},
   "outputs": [],
   "source": [
    "### Tratamiento de datos\n",
    "import glob\n",
    "import os\n",
    "import pandas as pd\n",
    "import numpy as np\n",
    "import calendar\n",
    "from contextlib import contextmanager\n",
    "from datetime import datetime\n",
    "import math\n",
    "import warnings\n",
    "warnings.filterwarnings(\"ignore\")"
   ]
  },
  {
   "cell_type": "markdown",
   "metadata": {},
   "source": [
    "#   Maestras"
   ]
  },
  {
   "cell_type": "code",
   "execution_count": 2,
   "metadata": {},
   "outputs": [],
   "source": [
    "os.chdir(r'C:\\Jupyter\\MasterReport\\Reporting\\Maestras')\n",
    "Maestro_SKU = pd.read_excel('Materiales  Abi.xlsx', sheet_name='Hoja1')#, dtype ={'Cj/Pall simil':np.float64,'HL/cj':np.float64} ,decimal='.')\n",
    "Maestro_SKU.rename(columns = {'Material': 'Sku_KOA','Material ABI': 'Sku','HL/cj':'HL_cj'} ,inplace=True)\n",
    "Maestro_SKU.HL_cj = np.round(Maestro_SKU.HL_cj,5)\n",
    "Maestro_SKU.HL_cj =Maestro_SKU.HL_cj/10\n",
    "Maestro_SKU.HL_cj = np.round(Maestro_SKU.HL_cj,6)\n",
    "\n",
    "os.chdir(r'C:\\Jupyter\\MasterReport\\Reporting\\Maestras')\n",
    "Maestro_Clientes = pd.read_excel('Maestra de clientes.xlsx', sheet_name='Hoja1')\n",
    "Maestro_Clientes.rename(columns = {'Cod Cliente': 'COD_ABI','Codigo Politica': 'COD_Politica'} ,inplace=True)"
   ]
  },
  {
   "cell_type": "markdown",
   "metadata": {},
   "source": [
    "# Stock"
   ]
  },
  {
   "cell_type": "markdown",
   "metadata": {},
   "source": [
    "# Stock KOE"
   ]
  },
  {
   "cell_type": "code",
   "execution_count": 3,
   "metadata": {},
   "outputs": [],
   "source": [
    "os.chdir(r'C:\\Users\\becho\\Documents\\MasterReport\\Reporting\\Bases Manuales\\01 STOCK\\Stock KOE')\n",
    "Stock_KOE = []\n",
    "csv_files = glob.glob('*.csv')\n",
    "\n",
    "for filename in csv_files:\n",
    "    data = pd.read_csv(filename,encoding='ANSI', sep='\\t',dtype={'Stock_Cajas':np.float64, 'Sku_ABInBev': np.float64} ,decimal='.')\n",
    "    Stock_KOE.append(data)\n",
    "Stock_KOE = pd.concat(Stock_KOE,ignore_index=True)\n",
    "Stock_KOE.Stock_Cajas = Stock_KOE.Stock_Cajas/10\n",
    "Stock_KOE.Stock_Cajas = np.round(Stock_KOE.Stock_Cajas)\n",
    "Stock_KOE.Sku_ABInBev = Stock_KOE.Sku_ABInBev/10\n",
    "Stock_KOE.rename(columns = {'Nom_cd': 'CD','Sku_ABInBev': 'Sku', 'A¤o_Mes_Dia': 'Fecha_t','Stock_Cajas': 'Stock_Cj'} ,inplace=True)\n",
    "Stock_KOE=Stock_KOE[[\"CD\",\"Sku\",\"Stock_Cj\",\"Fecha_t\"]]\n",
    "Stock_KOE = Stock_KOE[Stock_KOE[\"Stock_Cj\"]>0]\n",
    "Stock_KOE[\"PRI\"]=0"
   ]
  },
  {
   "cell_type": "markdown",
   "metadata": {},
   "source": [
    "# Stock KOA"
   ]
  },
  {
   "cell_type": "code",
   "execution_count": 7,
   "metadata": {},
   "outputs": [],
   "source": [
    "os.chdir(r'C:\\Users\\becho\\Documents\\MasterReport\\Reporting\\Bases Manuales\\01 STOCK\\Stock KOA')\n",
    "Stock_KOA = []\n",
    "csv_files = glob.glob('*.csv')\n",
    "\n",
    "for filename in csv_files:\n",
    "    data = pd.read_csv(filename,encoding='ANSI', sep=';',dtype={'Stock':np.float64,'Codigo CD': np.float64} ,decimal='.')\n",
    "    data['filename']=filename\n",
    "    Stock_KOA.append(data)\n",
    "Stock_KOA = pd.concat(Stock_KOA,ignore_index=True)"
   ]
  },
  {
   "cell_type": "code",
   "execution_count": 10,
   "metadata": {},
   "outputs": [],
   "source": [
    "Titulo =Stock_KOA[[\"filename\"]]\n",
    "Titulo = Titulo[\"filename\"].str.split(\" \", n=1, expand=True)\n",
    "Stock_KOA[\"Fecha_t\"]=Titulo[0].str.replace(r\"-\",\"\")\n",
    "Stock_KOA.rename(columns = {'Codigo CD': 'CD','SKU': 'Sku_KOA', 'Stock': 'Stock_Cj'} ,inplace=True)\n",
    "Stock_KOA.Sku_KOA = Stock_KOA.Sku_KOA.astype(int)"
   ]
  },
  {
   "cell_type": "code",
   "execution_count": 14,
   "metadata": {},
   "outputs": [],
   "source": [
    "Maestra_SKU_KOA = Maestro_SKU\n",
    "Maestra_SKU_KOA.Sku_KOA = Maestra_SKU_KOA.Sku_KOA.astype(int)\n",
    "\n",
    "Maestra_SKU_KOA = Maestro_SKU[[\"Sku_KOA\",\"Sku\"]]\n",
    "Maestra_SKU_KOA = Maestra_SKU_KOA.drop_duplicates(subset=[\"Sku_KOA\"])\n",
    "Stock_KOA = pd.merge(Stock_KOA,Maestra_SKU_KOA,on=[\"Sku_KOA\"],how=\"outer\")\n",
    "Stock_KOA.Sku = Stock_KOA.Sku.astype(np.float64)\n",
    "Stock_KOA.Sku = Stock_KOA.Sku/10\n",
    "Stock_KOA.Stock_Cj = Stock_KOA.Stock_Cj/10\n",
    "Stock_KOA[\"PRI\"] =0\n",
    "Stock_KOA=Stock_KOA[[\"CD\",\"Sku\",\"Stock_Cj\",\"Fecha_t\",\"PRI\"]]\n",
    "Stock_KOA = Stock_KOA.dropna(subset=['Fecha_t'])"
   ]
  },
  {
   "cell_type": "markdown",
   "metadata": {},
   "source": [
    "# Stock Maquila"
   ]
  },
  {
   "cell_type": "code",
   "execution_count": 15,
   "metadata": {},
   "outputs": [],
   "source": [
    "os.chdir(r'C:\\Users\\becho\\Documents\\MasterReport\\Reporting\\Bases Manuales\\01 STOCK\\Stock ABI\\Stock Maquila')\n",
    "Stock_ABI_Maq = []\n",
    "csv_files = glob.glob('*.txt')\n",
    "\n",
    "for filename in csv_files:\n",
    "    data = pd.read_csv(filename,encoding='ANSI', sep=',',dtype={' Stock     ':np.float64}, decimal='.')\n",
    "    data['filename']=filename\n",
    "    Stock_ABI_Maq.append(data)\n",
    "Stock_ABI_Maq = pd.concat(Stock_ABI_Maq,ignore_index=True)\n",
    "\n",
    "Titulo =Stock_ABI_Maq[[\"filename\"]]\n",
    "Titulo = Titulo[\"filename\"].str.split(\" \", n=1, expand=True)\n",
    "Stock_ABI_Maq[\"Fecha_t\"]=Titulo[0].str.replace(r\"-\",\"\")\n",
    "Stock_ABI_Maq['Base']=\"Maq\"\n",
    "Stock_ABI_Maq.rename(columns = {'Deposito ': 'CD', ' Stock     ': 'Stock_Cj', '   Cod.Pro': 'Sku'} ,inplace=True)\n",
    "Stock_ABI_Maq = Stock_ABI_Maq[Stock_ABI_Maq.CD.isin([65, 70])]\n",
    "Stock_ABI_Maq[\"PRI\"] = 0\n",
    "\n",
    "Stock_ABI_Maq =Stock_ABI_Maq[[\"CD\",\"Sku\",\"Stock_Cj\",\"Fecha_t\",\"PRI\"]]\n",
    "\n",
    "Stock_ABI_Maq.Stock_Cj = Stock_ABI_Maq.Stock_Cj/10\n",
    "Stock_ABI_Maq.Stock_Cj = np.round(Stock_ABI_Maq.Stock_Cj)\n",
    "Stock_ABI_Maq = Stock_ABI_Maq[Stock_ABI_Maq[\"Stock_Cj\"]>0]"
   ]
  },
  {
   "cell_type": "markdown",
   "metadata": {},
   "source": [
    "# Stock Venta"
   ]
  },
  {
   "cell_type": "code",
   "execution_count": 16,
   "metadata": {},
   "outputs": [],
   "source": [
    "os.chdir(r'C:\\Users\\becho\\Documents\\MasterReport\\Reporting\\Bases Manuales\\01 STOCK\\Stock ABI\\Stock Venta')\n",
    "Stock_ABI_Ven = []\n",
    "csv_files = glob.glob('*.txt')\n",
    "\n",
    "for filename in csv_files:\n",
    "    data = pd.read_csv(filename,encoding='ANSI', sep=',',dtype={' Stock     ':np.float64} ,decimal='.')\n",
    "    data['filename']=filename\n",
    "    Stock_ABI_Ven.append(data)\n",
    "Stock_ABI_Ven = pd.concat(Stock_ABI_Ven,ignore_index=True)\n",
    "\n",
    "Titulo =Stock_ABI_Ven[[\"filename\"]]\n",
    "Titulo = Titulo[\"filename\"].str.split(\" \", n=1, expand=True)\n",
    "Stock_ABI_Ven[\"Fecha_t\"]=Titulo[0].str.replace(r\"-\",\"\")\n",
    "Stock_ABI_Ven['Base']=\"Ven\"\n",
    "Stock_ABI_Ven.rename(columns = {'Deposito ': 'CD', ' Stock     ': 'Stock', '   Cod.Pro': 'Sku', ' Transito ':'Transito',' PRI - 100 ':'PRI'} ,inplace=True)\n",
    "Stock_ABI_Ven['Stock_Cj']= Stock_ABI_Ven.Stock+Stock_ABI_Ven.Transito\n",
    "Stock_ABI_Ven.PRI = Stock_ABI_Ven.PRI/10\n",
    "Stock_ABI_Ven.Stock_Cj = np.round(Stock_ABI_Ven.Stock_Cj)\n",
    "Stock_ABI_Ven.PRI = np.round(Stock_ABI_Ven.PRI)\n",
    "Stock_ABI_Ven = Stock_ABI_Ven[Stock_ABI_Ven[\"Stock_Cj\"]>0]\n",
    "Stock_ABI_Ven.Stock_Cj = Stock_ABI_Ven.Stock_Cj/10\n",
    "Stock_ABI_Ven = Stock_ABI_Ven[[\"CD\",\"Sku\",\"Stock_Cj\",\"Fecha_t\",\"PRI\"]]"
   ]
  },
  {
   "cell_type": "markdown",
   "metadata": {},
   "source": [
    "Maestras"
   ]
  },
  {
   "cell_type": "code",
   "execution_count": 17,
   "metadata": {},
   "outputs": [],
   "source": [
    "os.chdir(r'C:\\Users\\becho\\Documents\\MasterReport\\Reporting\\Maestras')\n",
    "Maestro_SKU = pd.read_excel('Materiales  Abi.xlsx', sheet_name='Hoja1')#, dtype ={'Cj/Pall simil':np.float64,'HL/cj':np.float64} ,decimal='.')\n",
    "Maestro_SKU.rename(columns = {'Material': 'Sku_KOA','Material ABI': 'SKU','HL/cj':'HL_cj'} ,inplace=True)\n",
    "Maestro_SKU.HL_cj = np.round(Maestro_SKU.HL_cj,5)\n",
    "Maestro_SKU.HL_cj =Maestro_SKU.HL_cj/10\n",
    "Maestro_SKU.HL_cj = np.round(Maestro_SKU.HL_cj,6)\n",
    "Maestro_SKU = Maestro_SKU[[\"SKU\",\"SKU KOE\"]]\n",
    "Maestro_SKU = Maestro_SKU.drop_duplicates(['SKU KOE'])\n",
    "\n",
    "os.chdir(r'C:\\Users\\becho\\Documents\\MasterReport\\Reporting\\Maestras')\n",
    "Maestro_Clientes = pd.read_excel('Maestra de clientes.xlsx', sheet_name='Hoja1')\n",
    "Maestro_Clientes.rename(columns = {'CP STOCK': 'CD','Codigo Stock Manual':'CD_KOE'} ,inplace=True)\n",
    "Mt_Cli2 = Maestro_Clientes[[\"CD\",\"CD_KOE\"]]"
   ]
  },
  {
   "cell_type": "markdown",
   "metadata": {},
   "source": [
    "# Stock KOE 2"
   ]
  },
  {
   "cell_type": "code",
   "execution_count": 18,
   "metadata": {},
   "outputs": [],
   "source": [
    "os.chdir(r'C:\\Users\\becho\\Documents\\MasterReport\\Reporting\\Bases Manuales\\01 STOCK\\Stock KOE real')\n",
    "Stock_KOE_2 = []\n",
    "csv_files = glob.glob('*.xlsx')\n",
    "\n",
    "for filename in csv_files:\n",
    "    data = pd.read_excel(filename,sheet_name='Base SAP')#, dtype={'Volumen en HL':np.float64})\n",
    "    data['filename']=filename\n",
    "    Stock_KOE_2.append(data)\n",
    "Stock_KOE_2 = pd.concat(Stock_KOE_2,ignore_index=True)\n",
    "\n",
    "T1 = Stock_KOE_2[[\"filename\"]]\n",
    "T1 = T1[\"filename\"].str.split(\".\", n=1, expand=True)\n",
    "Stock_KOE_2['Fecha_t'] = T1[0]\n",
    "Stock_KOE_2 = Stock_KOE_2[[\"Fecha_t\",\"Nombre 1\",\"Material\",\"Cajas Stock\"]]\n",
    "Stock_KOE_2.rename(columns = {'Nombre 1': 'CD_KOE', 'Material': 'SKU KOE','Cajas Stock':'Stock_Cj'} ,inplace=True)\n",
    "\n",
    "Stock_KOE_2 = Stock_KOE_2[Stock_KOE_2.Stock_Cj!=0]\n",
    "Stock_KOE_2.Stock_Cj = Stock_KOE_2.Stock_Cj.astype(str)\n",
    "\n",
    "Stock_KOE_2.Stock_Cj = Stock_KOE_2.Stock_Cj.str.replace(r\"''\",\"0\")\n",
    "Stock_KOE_2.Stock_Cj = Stock_KOE_2.Stock_Cj.str.replace(r\" \",\"0\")\n",
    "Stock_KOE_2.Stock_Cj = Stock_KOE_2.Stock_Cj.str.replace(r\",\",\"0\")\n",
    "Stock_KOE_2.Stock_Cj = Stock_KOE_2.Stock_Cj.astype(float)\n",
    "#Stock_KOE_2 = Stock_KOE_2[Stock_KOE_2.Cj>0]\n",
    "Stock_KOE_2.Stock_Cj = np.round(Stock_KOE_2.Stock_Cj,0)\n",
    "\n",
    "Maestro_SKU = Maestro_SKU.drop_duplicates(subset=[\"SKU KOE\"])\n",
    "Stock_KOE_2 = pd.merge(Stock_KOE_2,Maestro_SKU,on=[\"SKU KOE\"],how=\"outer\")\n",
    "Stock_KOE_2 = pd.merge(Stock_KOE_2,Mt_Cli2,on=[\"CD_KOE\"],how=\"outer\")\n",
    "\n",
    "Stock_KOE_2.SKU = Stock_KOE_2.SKU.astype(str)\n",
    "T1 = Stock_KOE_2[[\"SKU\"]]\n",
    "T1 = T1[\"SKU\"].str.split(\".\", n=1, expand=True)\n",
    "Stock_KOE_2['SKU'] = T1[0]\n",
    "Stock_KOE_2 = Stock_KOE_2.dropna(subset=['Fecha_t'])\n",
    "Stock_KOE_2.rename(columns = {'SKU': 'Sku'} ,inplace=True)\n",
    "Stock_KOE_2 = Stock_KOE_2[[\"Fecha_t\",\"CD\",\"Sku\",\"Stock_Cj\"]]\n",
    "\n",
    "Stock_KOE_2.Stock_Cj = Stock_KOE_2.Stock_Cj/10\n",
    "#Stock_KOE_2.Stock_Cj = np.round(Stock_KOE_2.Stock_Cj,0)\n",
    "Stock_KOE_2.PRI=0"
   ]
  },
  {
   "cell_type": "markdown",
   "metadata": {},
   "source": [
    "# Stock SAP"
   ]
  },
  {
   "cell_type": "code",
   "execution_count": 21,
   "metadata": {},
   "outputs": [],
   "source": [
    "os.chdir(r'C:\\Users\\becho\\Documents\\MasterReport\\Reporting\\Bases Manuales\\01 STOCK\\Stock ABI\\Stock SAP')\n",
    "DF = []\n",
    "csv_files = glob.glob('*.txt')\n",
    "\n",
    "for filename in csv_files:\n",
    "    data = pd.read_csv(filename,encoding='ANSI', sep='\\t')#,dtype={' Libre utilización':np.float64} ,decimal='.')\n",
    "    data['filename']=filename\n",
    "    xx = data.filename.str.split(\".\", n=1, expand=True)\n",
    "    data['Fecha_t'] = xx[0]\n",
    "    DF.append(data)\n",
    "DF = pd.concat(DF,ignore_index=True)\n",
    "DF = DF.dropna(subset=['Material'])\n",
    "DF.Material = DF.Material.astype(str)\n",
    "DF.Material = DF.Material.str.split(\".\", n=1, expand=True)[0]\n",
    "DF.rename(columns = {'Material':'SKU_SAP','Ce.': 'Cent','Alm.':'CD_SAP',' Libre utilización':'Cj',' Valor stock bloq.':'PRI'} ,inplace=True)\n",
    "DF = DF[[\"SKU_SAP\",\"CD_SAP\",\"Cj\",\"PRI\",\"Fecha_t\"]]\n",
    "\n",
    "os.chdir(r'C:\\Users\\becho\\Documents\\MasterReport\\Reporting\\Maestras')\n",
    "Maestro_CD = pd.read_excel('Maestras SAP.xlsx', sheet_name='CD')\n",
    "Maestro_CD.CD_SAP = Maestro_CD.CD_SAP.astype(str)\n",
    "Maestro_CD.CD = Maestro_CD.CD.astype(str)\n",
    "\n",
    "os.chdir(r'C:\\Users\\becho\\Documents\\MasterReport\\Reporting\\Maestras')\n",
    "Maestro_SKU = pd.read_excel('Maestras SAP.xlsx', sheet_name='SKU_SAP')\n",
    "Maestro_SKU\n",
    "Maestro_SKU.Cod_truck = Maestro_SKU.Cod_truck.astype(str)\n",
    "Maestro_SKU.SKU_SAP = Maestro_SKU.SKU_SAP.astype(str)\n",
    "Maestro_SKU.SKU_SAP = Maestro_SKU.SKU_SAP.str.split(\".\", n=1, expand=True)[0]\n",
    "Maestro_SKU = Maestro_SKU[[\"SKU_SAP\",\"Cod_truck\"]]\n",
    "\n",
    "DF = pd.merge(DF,Maestro_CD,on=[\"CD_SAP\"],how=\"outer\")\n",
    "DF = pd.merge(DF,Maestro_SKU,on=[\"SKU_SAP\"],how=\"outer\")\n",
    "DF = DF.dropna(subset=['Fecha_t'])\n",
    "DF = DF[[\"CD\",\"Cod_truck\" ,\"Cj\",\"Fecha_t\",\"PRI\"]]\n",
    "DF.rename(columns = {'Cod_truck':'Sku','Cj': 'Stock_Cj'} ,inplace=True)"
   ]
  },
  {
   "cell_type": "markdown",
   "metadata": {},
   "source": [
    "# Exports"
   ]
  },
  {
   "cell_type": "code",
   "execution_count": 22,
   "metadata": {},
   "outputs": [],
   "source": [
    "Stock_KO = Stock_KOE.append(Stock_KOA)\n",
    "Stock_KO = Stock_KO.append(Stock_KOE_2)\n",
    "Stock_ABI = Stock_ABI_Ven.append(Stock_ABI_Maq)\n",
    "Stock_ABI = Stock_ABI.append(DF)\n",
    "\n",
    "\n",
    "Stock_KO = Stock_KO.dropna(subset=['Fecha_t','CD','Sku'])\n",
    "Stock_KO.to_csv(r\"C:\\Users\\becho\\Documents\\MasterReport\\Reporting\\ETL\\02 STOCK\\Stock KO\\Stock_KO.txt\")\n",
    "Stock_ABI.to_csv(r\"C:\\Users\\becho\\Documents\\MasterReport\\Reporting\\ETL\\02 STOCK\\Stock ABI\\Stock_ABI.txt\")"
   ]
  },
  {
   "cell_type": "markdown",
   "metadata": {},
   "source": [
    "# Sell IN"
   ]
  },
  {
   "cell_type": "code",
   "execution_count": 23,
   "metadata": {},
   "outputs": [],
   "source": [
    "os.chdir(r'C:\\Users\\becho\\Documents\\MasterReport\\Reporting\\Bases Manuales\\02 SELL\\Sell IN')\n",
    "Sell_in = []\n",
    "csv_files = glob.glob('*.txt')\n",
    "\n",
    "for filename in csv_files:\n",
    "    data = pd.read_csv(filename,encoding='UTF-8', sep='\\t')\n",
    "    data['filename']=filename\n",
    "    Sell_in.append(data)\n",
    "Sell_in = pd.concat(Sell_in,ignore_index=True)\n",
    "Sell_in.rename(columns = {'Año Mes Dia Emision':'Fecha_SI','C.Dep.Ori': 'DPS ORI','C.Prd':'Sku', 'N.Planilla': 'PLANILLA', 'Camion Patente':'COD FLETERO'} ,inplace=True)\n",
    "Sell_in= Sell_in[[\"Fecha_SI\",\"Año Mes Dia Cierre\",\"C.Cli\",\"PLANILLA\",\"COD FLETERO\",'Sku','#Cj Vta Bruta SUM','#HL Vta Bruta SUM','D.Est.Pla']]\n",
    "\n",
    "Sell_in_WPS = Sell_in\n",
    "Sell_in_WPS.rename(columns ={'#Cj Vta Bruta SUM':'Cj', 'C.Cli': 'DPS DES'},inplace=True)\n",
    "\n",
    "\n",
    "###### EXPORTABLE\n",
    "Sell_in\n",
    "Sell_in.to_csv(r\"C:\\Users\\becho\\Documents\\MasterReport\\Reporting\\Bases Manuales\\02 SELL\\Sell IN\\Sell_In.txt\")"
   ]
  },
  {
   "cell_type": "markdown",
   "metadata": {},
   "source": [
    "# Politica"
   ]
  },
  {
   "cell_type": "code",
   "execution_count": 24,
   "metadata": {
    "scrolled": false
   },
   "outputs": [],
   "source": [
    "os.chdir(r'C:\\Users\\becho\\Documents\\MasterReport\\Reporting\\Bases Manuales\\03 POLITICA\\Diaria')\n",
    "Politica = []\n",
    "csv_files = glob.glob('*.xlsx')\n",
    "\n",
    "for filename in csv_files:\n",
    "    data = pd.read_excel(filename,sheet_name='Hoja1')#, dtype={'FCST HL ajustado':np.float64,'Seg HL':np.float64, 'Repo HL':np.float64, 'Max HL':np.float64, 'OOR Out HL':np.float64, 'OOR Over HL':np.float64} ,decimal=',')\n",
    "    data['filename']=filename\n",
    "    Politica.append(data)\n",
    "Politica = pd.concat(Politica,ignore_index=True)\n",
    "\n",
    "Titulo = Politica[[\"filename\"]]\n",
    "Titulo = Titulo[\"filename\"].str.split(\".\", n=1, expand=True)\n",
    "Politica[\"Fecha_t\"]=Titulo[0].str.replace(r\".\",\"\")\n",
    "\n",
    "Politica.rename(columns ={'FCST HL ajustado':'FCST_HL', 'Seg HL': 'Seg_HL', 'Repo HL': 'Repo_HL', 'Max HL': 'Max_HL', 'OOR Out HL': 'OOR_Out_HL', 'OOR Over HL': 'OOR_Over_HL'},inplace=True)\n",
    "# Politica.FCST_HL = np.round(Politica.FCST_HL,1)\n",
    "Politica.Seg_HL = np.round(Politica.Seg_HL,1)\n",
    "Politica.Repo_HL = np.round(Politica.Repo_HL,1)\n",
    "Politica.Max_HL = np.round(Politica.Max_HL,1)\n",
    "Politica.OOR_Out_HL = np.round(Politica.OOR_Out_HL,1)\n",
    "Politica.OOR_Over_HL = np.round(Politica.OOR_Over_HL,1)\n",
    "\n",
    "Politica = Politica[['Fecha_t', 'Region','Cod. Producto','FCST_HL','Seg_HL', 'Repo_HL', 'Max_HL', 'OOR_Out_HL', 'OOR_Over_HL','Transito Hl','Cargan hoy Hl','D+1  Hl','DV centro','Stock centro hoy HL']]\n",
    "Politica.rename(columns ={'Transito Hl':'Transito','Cargan hoy Hl':'Cargan_hoy','D+1  Hl':'D1','Stock centro hoy HL':'Stock_centro_hoy_HL','DV centro':'DV_centro'},inplace=True)\n",
    "\n",
    "Politica.Cargan_hoy = np.round(Politica.Cargan_hoy,1)\n",
    "Politica.Transito = np.round(Politica.Transito,1)\n",
    "Politica.Stock_centro_hoy_HL = np.round(Politica.Stock_centro_hoy_HL,1)\n",
    "#Politica.DV_centro = np.round(Politica.DV_centro,1)\n",
    "Politica.D1 = np.round(Politica.D1,1)\n",
    "\n",
    "os.chdir(r'C:\\Users\\becho\\Documents\\MasterReport\\Reporting\\Bases Manuales\\03 POLITICA\\Nuevo formato')\n",
    "Politica2 = []\n",
    "csv_files = glob.glob('*.xlsx')\n",
    "\n",
    "for filename in csv_files:\n",
    "    data = pd.read_excel(filename,sheet_name='Hoja1')#, dtype={'FCST_HL':np.float64,'Seg_HL':np.float64, 'Repo_HL':np.float64, 'Max_HL':np.float64, 'OOR_OUT_HL':np.float64, 'OOR_OVER_HL':np.float64} ,decimal=',')\n",
    "    data['filename']=filename\n",
    "    Politica2.append(data)\n",
    "Politica2 = pd.concat(Politica2,ignore_index=True)\n",
    "\n",
    "Titulo = Politica2[[\"filename\"]]\n",
    "Titulo = Titulo[\"filename\"].str.split(\".\", n=1, expand=True)\n",
    "Politica2[\"Fecha_t\"]=Titulo[0].str.replace(r\".\",\"\")\n",
    "\n",
    "Politica2.Seg_HL = np.round(Politica2.Seg_HL,1)#Seg_HL\n",
    "Politica2.Repo_HL = np.round(Politica2.Repo_HL,1)#Repo_HL\n",
    "Politica2.Max_HL = np.round(Politica2.Max_HL,1)#Max_HL\n",
    "Politica2.OOR_OUT_HL = np.round(Politica2.OOR_OUT_HL,1)#OOR_OUT_HL\n",
    "Politica2.OOR_OVER_HL = np.round(Politica2.OOR_OVER_HL,1)#OOR_OVER_HL\n",
    "\n",
    "Politica2.D0_PLL = np.round(Politica2.D0_PLL,1)#D0_PLL\n",
    "Politica2.Transito_PLL = np.round(Politica2.Transito_PLL,1)#Transito_PLL\n",
    "Politica2.D1_PLL = np.round(Politica2.D1_PLL,1)#D1_PLL\n",
    "Politica2.SugT_HL = np.round(Politica2.SugT_HL,1)#SugT_HL\n",
    "Politica2.SugR_HL = np.round(Politica2.SugR_HL,1)#SugR_HL\n",
    "Politica2.Dispo_HL = np.round(Politica2.Dispo_HL,1)#Dispo_HL\n",
    "Politica2.Stock_Py_HL = np.round(Politica2.Stock_Py_HL,1)#Stock_Py_HL\n",
    "Politica2.Stock_Tron_HL = np.round(Politica2.Stock_Tron_HL,1)#Stock_Tron_HL\n",
    "Politica2.FCST_HL = np.round(Politica2.FCST_HL,1)#FCST_HL\n",
    "Politica2.Dispo_ABI_HL = np.round(Politica2.Dispo_ABI_HL,1)#Dispo_ABI_HL\n",
    "Politica2.Dispo_Centro_HL = np.round(Politica2.Dispo_Centro_HL,1)# Dispo_Centro_HL \n",
    "\n",
    "Politica2 = Politica2[['Fecha_t', 'Region','Cod. Producto','FCST_HL','Seg_HL', 'Repo_HL', 'Max_HL', 'OOR_OUT_HL', 'OOR_OVER_HL','Transito_PLL','D0_PLL','D1_PLL','Dispo_Centro_HL']]\n",
    "Politica2.rename(columns ={'OOR_OUT_HL':'OOR_Out_HL','OOR_OVER_HL':'OOR_Over_HL', 'Transito_PLL': 'Transito', 'D0_PLL':'Cargan_hoy', 'D1_PLL': 'D1', 'Dispo_ABI_HL':'Stock_centro_hoy_HL'},inplace=True)\n",
    "Politica2 = Politica2.fillna(0)\n",
    "\n",
    "Politica = Politica.loc[:, ~Politica.columns.duplicated()]\n",
    "Politica.drop(labels=['DV_centro'], axis=1, inplace=True)\n",
    "Politica.drop(labels=['Stock_centro_hoy_HL', 'Stock_centro_hoy_HL'], axis=1, inplace=True)\n",
    "Politica = Politica.append(Politica2)\n",
    "\n",
    "#### EXPORTABLE\n",
    "Politica.to_csv(r\"C:\\Users\\becho\\Documents\\MasterReport\\Reporting\\ETL\\03 Politica\\Politica.txt\")"
   ]
  }
 ],
 "metadata": {
  "kernelspec": {
   "display_name": "Python 3 (ipykernel)",
   "language": "python",
   "name": "python3"
  },
  "language_info": {
   "codemirror_mode": {
    "name": "ipython",
    "version": 3
   },
   "file_extension": ".py",
   "mimetype": "text/x-python",
   "name": "python",
   "nbconvert_exporter": "python",
   "pygments_lexer": "ipython3",
   "version": "3.9.7"
  }
 },
 "nbformat": 4,
 "nbformat_minor": 4
}
